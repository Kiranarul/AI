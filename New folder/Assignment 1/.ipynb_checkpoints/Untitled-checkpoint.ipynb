{
 "cells": [
  {
   "cell_type": "code",
   "execution_count": 1,
   "metadata": {},
   "outputs": [
    {
     "name": "stdout",
     "output_type": "stream",
     "text": [
      "Mean is: 30.0\n"
     ]
    }
   ],
   "source": [
    "n_num = [10, 20, 30, 40, 50]\n",
    "n = len(n_num)\n",
    "get_sum = sum(n_num)\n",
    "mean = get_sum / n\n",
    "print(\"Mean is: \" + str(mean))"
   ]
  },
  {
   "cell_type": "code",
   "execution_count": 2,
   "metadata": {},
   "outputs": [
    {
     "name": "stdout",
     "output_type": "stream",
     "text": [
      "10\n"
     ]
    }
   ],
   "source": [
    "print(min(n_num))"
   ]
  },
  {
   "cell_type": "code",
   "execution_count": 3,
   "metadata": {},
   "outputs": [
    {
     "name": "stdout",
     "output_type": "stream",
     "text": [
      "50\n"
     ]
    }
   ],
   "source": [
    "print(max(n_num))"
   ]
  },
  {
   "cell_type": "code",
   "execution_count": 4,
   "metadata": {},
   "outputs": [
    {
     "name": "stdout",
     "output_type": "stream",
     "text": [
      "block-1\n",
      "now you are in even number of data set\n",
      "32\n",
      "2\n",
      "Median is: 17.0\n"
     ]
    }
   ],
   "source": [
    "n_num = [0,1, 2, 32, 37, 55,70,0]\n",
    "# /* (Indexes   \n",
    "# 0th  1st  2nd 3rd 4th 5th) */\n",
    "n = len(n_num)\n",
    "n_num.sort()\n",
    "if n % 2 == 0:\n",
    " print(\"block-1\")\n",
    " print(\"now you are in even number of data set\")\n",
    " median1 = n_num[n//2]\n",
    " print(median1)\n",
    "# /* 6/2=>3 \n",
    " median2 = n_num[n//2 - 1]\n",
    " print(median2)\n",
    "#/* 6/3=>2 \n",
    "#/* n_num[3] = 4\n",
    "# n_num[2]  = 3 \n",
    " median = (median1 + median2)/2\n",
    "else:\n",
    " print(\"block-2\")\n",
    " median = n_num[n//2]\n",
    "print(\"Median is: \" + str(median))"
   ]
  },
  {
   "cell_type": "code",
   "execution_count": 6,
   "metadata": {},
   "outputs": [
    {
     "name": "stdout",
     "output_type": "stream",
     "text": [
      "30.166666666666668\n",
      "30.5\n"
     ]
    }
   ],
   "source": [
    "import numpy as np\n",
    "n_num = [10,20,30,31,40,50]\n",
    "print(np.mean(n_num))\n",
    "print(np.median(n_num))"
   ]
  },
  {
   "cell_type": "code",
   "execution_count": 7,
   "metadata": {},
   "outputs": [
    {
     "name": "stdout",
     "output_type": "stream",
     "text": [
      "1.4142135623730951\n",
      "2.0\n"
     ]
    }
   ],
   "source": [
    "import math\n",
    "xs = [1,2,3,4,5]     \n",
    "mean = sum(xs) / len(xs)   # mean\n",
    "var  = sum(pow(x-mean,2) for x in xs) / len(xs)  # variance\n",
    "std  = math.sqrt(var)  # standard deviation\n",
    "print(std)\n",
    "print(var)"
   ]
  },
  {
   "cell_type": "code",
   "execution_count": 8,
   "metadata": {},
   "outputs": [
    {
     "name": "stdout",
     "output_type": "stream",
     "text": [
      "37\n",
      "the mean value is 37.53846153846154 \n",
      "the median value is 37 \n",
      "the std value is 24.13370873769503 \n",
      "the variance value is 582.4358974358975 \n"
     ]
    }
   ],
   "source": [
    "import statistics as kiran\n",
    "###new_list = [ 1,2,3,4,5]\n",
    "new_list = [1, 2,32, 37,55,70,70,36,37,55,1,55,37]\n",
    "print(kiran.mode(new_list))\n",
    "print(\"the mean value is %s \" %(kiran.mean(new_list)))\n",
    "print(\"the median value is %s \" %(kiran.median(new_list)))\n",
    "print(\"the std value is %s \" %(kiran.stdev(new_list)))\n",
    "print(\"the variance value is %s \" %(kiran.variance(new_list)))"
   ]
  },
  {
   "cell_type": "code",
   "execution_count": 9,
   "metadata": {},
   "outputs": [
    {
     "name": "stdout",
     "output_type": "stream",
     "text": [
      "37\n",
      "the mean value is 35.69230769230769 \n",
      "the median value is 36 \n",
      "the std value is 2.4961508830135313 \n",
      "the variance value is 6.230769230769231 \n"
     ]
    }
   ],
   "source": [
    "new_list = [31, 32,36, 37,35,36,33,35,37,40,38,37,37]\n",
    "print(kiran.mode(new_list))\n",
    "print(\"the mean value is %s \" %(kiran.mean(new_list)))\n",
    "print(\"the median value is %s \" %(kiran.median(new_list)))\n",
    "print(\"the std value is %s \" %(kiran.stdev(new_list)))\n",
    "print(\"the variance value is %s \" %(kiran.variance(new_list)))"
   ]
  },
  {
   "cell_type": "code",
   "execution_count": null,
   "metadata": {},
   "outputs": [],
   "source": []
  }
 ],
 "metadata": {
  "kernelspec": {
   "display_name": "Python 3",
   "language": "python",
   "name": "python3"
  },
  "language_info": {
   "codemirror_mode": {
    "name": "ipython",
    "version": 3
   },
   "file_extension": ".py",
   "mimetype": "text/x-python",
   "name": "python",
   "nbconvert_exporter": "python",
   "pygments_lexer": "ipython3",
   "version": "3.8.3"
  }
 },
 "nbformat": 4,
 "nbformat_minor": 4
}
