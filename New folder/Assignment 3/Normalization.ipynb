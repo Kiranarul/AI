{
 "cells": [
  {
   "cell_type": "code",
   "execution_count": 52,
   "metadata": {},
   "outputs": [
    {
     "name": "stdout",
     "output_type": "stream",
     "text": [
      "[0.0, 0.0979182033861375, 0.02852868377245056, 1.0]\n"
     ]
    }
   ],
   "source": [
    "#min max\n",
    "import numpy as np\n",
    "def normalize(x):\n",
    "    min = np.min(x)\n",
    "    max = np.max(x)\n",
    "    range = max - min\n",
    "    return [(a - min) / range for a in x]\n",
    "x = [70000, 211111, 111113, 1511111]\n",
    "normalizedX = normalize(x)\n",
    "print(normalizedX)"
   ]
  },
  {
   "cell_type": "code",
   "execution_count": 51,
   "metadata": {
    "scrolled": true
   },
   "outputs": [
    {
     "data": {
      "text/plain": [
       "[-0.6764836923183879,\n",
       " -0.44126597002018075,\n",
       " -0.6079524919382178,\n",
       " 1.7257021542767865]"
      ]
     },
     "execution_count": 51,
     "metadata": {},
     "output_type": "execute_result"
    }
   ],
   "source": [
    "#zscore\n",
    "import statistics as stat\n",
    "sd = stat.pstdev(x) \n",
    "def aver(x):\n",
    "    return sum(x)/len(x)\n",
    "mean1 = aver(x)\n",
    "\n",
    "arr=[0,0,0,0]\n",
    "i=0\n",
    "for a in x:\n",
    "    arr[i]= (a-mean1)/sd\n",
    "    i=i+1\n",
    "    \n",
    "arr"
   ]
  },
  {
   "cell_type": "code",
   "execution_count": null,
   "metadata": {},
   "outputs": [],
   "source": []
  }
 ],
 "metadata": {
  "kernelspec": {
   "display_name": "Python 3",
   "language": "python",
   "name": "python3"
  },
  "language_info": {
   "codemirror_mode": {
    "name": "ipython",
    "version": 3
   },
   "file_extension": ".py",
   "mimetype": "text/x-python",
   "name": "python",
   "nbconvert_exporter": "python",
   "pygments_lexer": "ipython3",
   "version": "3.8.3"
  }
 },
 "nbformat": 4,
 "nbformat_minor": 4
}
