{
 "cells": [
  {
   "cell_type": "code",
   "execution_count": 1,
   "metadata": {},
   "outputs": [
    {
     "data": {
      "text/html": [
       "<div>\n",
       "<style scoped>\n",
       "    .dataframe tbody tr th:only-of-type {\n",
       "        vertical-align: middle;\n",
       "    }\n",
       "\n",
       "    .dataframe tbody tr th {\n",
       "        vertical-align: top;\n",
       "    }\n",
       "\n",
       "    .dataframe thead th {\n",
       "        text-align: right;\n",
       "    }\n",
       "</style>\n",
       "<table border=\"1\" class=\"dataframe\">\n",
       "  <thead>\n",
       "    <tr style=\"text-align: right;\">\n",
       "      <th></th>\n",
       "      <th>Actual</th>\n",
       "      <th>Prediction</th>\n",
       "    </tr>\n",
       "  </thead>\n",
       "  <tbody>\n",
       "    <tr>\n",
       "      <th>0</th>\n",
       "      <td>790</td>\n",
       "      <td>820</td>\n",
       "    </tr>\n",
       "    <tr>\n",
       "      <th>1</th>\n",
       "      <td>810</td>\n",
       "      <td>790</td>\n",
       "    </tr>\n",
       "    <tr>\n",
       "      <th>2</th>\n",
       "      <td>680</td>\n",
       "      <td>720</td>\n",
       "    </tr>\n",
       "    <tr>\n",
       "      <th>3</th>\n",
       "      <td>500</td>\n",
       "      <td>640</td>\n",
       "    </tr>\n",
       "    <tr>\n",
       "      <th>4</th>\n",
       "      <td>520</td>\n",
       "      <td>780</td>\n",
       "    </tr>\n",
       "    <tr>\n",
       "      <th>5</th>\n",
       "      <td>810</td>\n",
       "      <td>980</td>\n",
       "    </tr>\n",
       "    <tr>\n",
       "      <th>6</th>\n",
       "      <td>1120</td>\n",
       "      <td>1550</td>\n",
       "    </tr>\n",
       "    <tr>\n",
       "      <th>7</th>\n",
       "      <td>1840</td>\n",
       "      <td>1850</td>\n",
       "    </tr>\n",
       "    <tr>\n",
       "      <th>8</th>\n",
       "      <td>1600</td>\n",
       "      <td>1880</td>\n",
       "    </tr>\n",
       "    <tr>\n",
       "      <th>9</th>\n",
       "      <td>1250</td>\n",
       "      <td>1600</td>\n",
       "    </tr>\n",
       "    <tr>\n",
       "      <th>10</th>\n",
       "      <td>740</td>\n",
       "      <td>890</td>\n",
       "    </tr>\n",
       "    <tr>\n",
       "      <th>11</th>\n",
       "      <td>610</td>\n",
       "      <td>690</td>\n",
       "    </tr>\n",
       "  </tbody>\n",
       "</table>\n",
       "</div>"
      ],
      "text/plain": [
       "    Actual  Prediction\n",
       "0      790         820\n",
       "1      810         790\n",
       "2      680         720\n",
       "3      500         640\n",
       "4      520         780\n",
       "5      810         980\n",
       "6     1120        1550\n",
       "7     1840        1850\n",
       "8     1600        1880\n",
       "9     1250        1600\n",
       "10     740         890\n",
       "11     610         690"
      ]
     },
     "execution_count": 1,
     "metadata": {},
     "output_type": "execute_result"
    }
   ],
   "source": [
    "import pandas as pd\n",
    "import math \n",
    "data=pd.read_csv('expt.csv')\n",
    "data"
   ]
  },
  {
   "cell_type": "code",
   "execution_count": 2,
   "metadata": {},
   "outputs": [],
   "source": [
    "data['Errors']=data['Actual']-data['Prediction']"
   ]
  },
  {
   "cell_type": "code",
   "execution_count": 3,
   "metadata": {},
   "outputs": [],
   "source": [
    "data['Absolute Errors']=data['Errors'].abs()"
   ]
  },
  {
   "cell_type": "code",
   "execution_count": 4,
   "metadata": {},
   "outputs": [],
   "source": [
    "data['Percentage Errors']=data['Errors']/data['Actual']*100"
   ]
  },
  {
   "cell_type": "code",
   "execution_count": 5,
   "metadata": {},
   "outputs": [],
   "source": [
    "data['Absolute Percentage Errors']=data['Percentage Errors'].abs()"
   ]
  },
  {
   "cell_type": "code",
   "execution_count": 6,
   "metadata": {},
   "outputs": [],
   "source": [
    "data['Squared Errors']=data['Errors']*data['Errors']"
   ]
  },
  {
   "cell_type": "code",
   "execution_count": 7,
   "metadata": {},
   "outputs": [],
   "source": [
    "ME=data['Errors'].mean()"
   ]
  },
  {
   "cell_type": "code",
   "execution_count": 8,
   "metadata": {},
   "outputs": [
    {
     "data": {
      "text/plain": [
       "163.33333333333334"
      ]
     },
     "execution_count": 8,
     "metadata": {},
     "output_type": "execute_result"
    }
   ],
   "source": [
    "MAE=data['Absolute Errors'].mean()\n",
    "MAE"
   ]
  },
  {
   "cell_type": "code",
   "execution_count": 9,
   "metadata": {},
   "outputs": [
    {
     "data": {
      "text/plain": [
       "44483.333333333336"
      ]
     },
     "execution_count": 9,
     "metadata": {},
     "output_type": "execute_result"
    }
   ],
   "source": [
    "MSE=data['Squared Errors'].mean()\n",
    "MSE"
   ]
  },
  {
   "cell_type": "code",
   "execution_count": 13,
   "metadata": {},
   "outputs": [
    {
     "data": {
      "text/plain": [
       "-18.668308298873583"
      ]
     },
     "execution_count": 13,
     "metadata": {},
     "output_type": "execute_result"
    }
   ],
   "source": [
    "MPE=data['Percentage Errors'].mean()\n",
    "MPE"
   ]
  },
  {
   "cell_type": "code",
   "execution_count": 11,
   "metadata": {},
   "outputs": [
    {
     "data": {
      "text/plain": [
       "19.07983093261844"
      ]
     },
     "execution_count": 11,
     "metadata": {},
     "output_type": "execute_result"
    }
   ],
   "source": [
    "MAPE=data['Absolute Percentage Errors'].mean()\n",
    "MAPE"
   ]
  },
  {
   "cell_type": "code",
   "execution_count": 12,
   "metadata": {},
   "outputs": [
    {
     "data": {
      "text/plain": [
       "210.91072360914544"
      ]
     },
     "execution_count": 12,
     "metadata": {},
     "output_type": "execute_result"
    }
   ],
   "source": [
    "RMSE=math.sqrt(MSE)\n",
    "RMSE"
   ]
  },
  {
   "cell_type": "code",
   "execution_count": 14,
   "metadata": {},
   "outputs": [
    {
     "data": {
      "text/html": [
       "<div>\n",
       "<style scoped>\n",
       "    .dataframe tbody tr th:only-of-type {\n",
       "        vertical-align: middle;\n",
       "    }\n",
       "\n",
       "    .dataframe tbody tr th {\n",
       "        vertical-align: top;\n",
       "    }\n",
       "\n",
       "    .dataframe thead th {\n",
       "        text-align: right;\n",
       "    }\n",
       "</style>\n",
       "<table border=\"1\" class=\"dataframe\">\n",
       "  <thead>\n",
       "    <tr style=\"text-align: right;\">\n",
       "      <th></th>\n",
       "      <th>Actual</th>\n",
       "      <th>Prediction</th>\n",
       "      <th>Errors</th>\n",
       "      <th>Absolute Errors</th>\n",
       "      <th>Percentage Errors</th>\n",
       "      <th>Absolute Percentage Errors</th>\n",
       "      <th>Squared Errors</th>\n",
       "    </tr>\n",
       "  </thead>\n",
       "  <tbody>\n",
       "    <tr>\n",
       "      <th>0</th>\n",
       "      <td>790</td>\n",
       "      <td>820</td>\n",
       "      <td>-30</td>\n",
       "      <td>30</td>\n",
       "      <td>-3.797468</td>\n",
       "      <td>3.797468</td>\n",
       "      <td>900</td>\n",
       "    </tr>\n",
       "    <tr>\n",
       "      <th>1</th>\n",
       "      <td>810</td>\n",
       "      <td>790</td>\n",
       "      <td>20</td>\n",
       "      <td>20</td>\n",
       "      <td>2.469136</td>\n",
       "      <td>2.469136</td>\n",
       "      <td>400</td>\n",
       "    </tr>\n",
       "    <tr>\n",
       "      <th>2</th>\n",
       "      <td>680</td>\n",
       "      <td>720</td>\n",
       "      <td>-40</td>\n",
       "      <td>40</td>\n",
       "      <td>-5.882353</td>\n",
       "      <td>5.882353</td>\n",
       "      <td>1600</td>\n",
       "    </tr>\n",
       "    <tr>\n",
       "      <th>3</th>\n",
       "      <td>500</td>\n",
       "      <td>640</td>\n",
       "      <td>-140</td>\n",
       "      <td>140</td>\n",
       "      <td>-28.000000</td>\n",
       "      <td>28.000000</td>\n",
       "      <td>19600</td>\n",
       "    </tr>\n",
       "    <tr>\n",
       "      <th>4</th>\n",
       "      <td>520</td>\n",
       "      <td>780</td>\n",
       "      <td>-260</td>\n",
       "      <td>260</td>\n",
       "      <td>-50.000000</td>\n",
       "      <td>50.000000</td>\n",
       "      <td>67600</td>\n",
       "    </tr>\n",
       "    <tr>\n",
       "      <th>5</th>\n",
       "      <td>810</td>\n",
       "      <td>980</td>\n",
       "      <td>-170</td>\n",
       "      <td>170</td>\n",
       "      <td>-20.987654</td>\n",
       "      <td>20.987654</td>\n",
       "      <td>28900</td>\n",
       "    </tr>\n",
       "    <tr>\n",
       "      <th>6</th>\n",
       "      <td>1120</td>\n",
       "      <td>1550</td>\n",
       "      <td>-430</td>\n",
       "      <td>430</td>\n",
       "      <td>-38.392857</td>\n",
       "      <td>38.392857</td>\n",
       "      <td>184900</td>\n",
       "    </tr>\n",
       "    <tr>\n",
       "      <th>7</th>\n",
       "      <td>1840</td>\n",
       "      <td>1850</td>\n",
       "      <td>-10</td>\n",
       "      <td>10</td>\n",
       "      <td>-0.543478</td>\n",
       "      <td>0.543478</td>\n",
       "      <td>100</td>\n",
       "    </tr>\n",
       "    <tr>\n",
       "      <th>8</th>\n",
       "      <td>1600</td>\n",
       "      <td>1880</td>\n",
       "      <td>-280</td>\n",
       "      <td>280</td>\n",
       "      <td>-17.500000</td>\n",
       "      <td>17.500000</td>\n",
       "      <td>78400</td>\n",
       "    </tr>\n",
       "    <tr>\n",
       "      <th>9</th>\n",
       "      <td>1250</td>\n",
       "      <td>1600</td>\n",
       "      <td>-350</td>\n",
       "      <td>350</td>\n",
       "      <td>-28.000000</td>\n",
       "      <td>28.000000</td>\n",
       "      <td>122500</td>\n",
       "    </tr>\n",
       "    <tr>\n",
       "      <th>10</th>\n",
       "      <td>740</td>\n",
       "      <td>890</td>\n",
       "      <td>-150</td>\n",
       "      <td>150</td>\n",
       "      <td>-20.270270</td>\n",
       "      <td>20.270270</td>\n",
       "      <td>22500</td>\n",
       "    </tr>\n",
       "    <tr>\n",
       "      <th>11</th>\n",
       "      <td>610</td>\n",
       "      <td>690</td>\n",
       "      <td>-80</td>\n",
       "      <td>80</td>\n",
       "      <td>-13.114754</td>\n",
       "      <td>13.114754</td>\n",
       "      <td>6400</td>\n",
       "    </tr>\n",
       "  </tbody>\n",
       "</table>\n",
       "</div>"
      ],
      "text/plain": [
       "    Actual  Prediction  Errors  Absolute Errors  Percentage Errors  \\\n",
       "0      790         820     -30               30          -3.797468   \n",
       "1      810         790      20               20           2.469136   \n",
       "2      680         720     -40               40          -5.882353   \n",
       "3      500         640    -140              140         -28.000000   \n",
       "4      520         780    -260              260         -50.000000   \n",
       "5      810         980    -170              170         -20.987654   \n",
       "6     1120        1550    -430              430         -38.392857   \n",
       "7     1840        1850     -10               10          -0.543478   \n",
       "8     1600        1880    -280              280         -17.500000   \n",
       "9     1250        1600    -350              350         -28.000000   \n",
       "10     740         890    -150              150         -20.270270   \n",
       "11     610         690     -80               80         -13.114754   \n",
       "\n",
       "    Absolute Percentage Errors  Squared Errors  \n",
       "0                     3.797468             900  \n",
       "1                     2.469136             400  \n",
       "2                     5.882353            1600  \n",
       "3                    28.000000           19600  \n",
       "4                    50.000000           67600  \n",
       "5                    20.987654           28900  \n",
       "6                    38.392857          184900  \n",
       "7                     0.543478             100  \n",
       "8                    17.500000           78400  \n",
       "9                    28.000000          122500  \n",
       "10                   20.270270           22500  \n",
       "11                   13.114754            6400  "
      ]
     },
     "execution_count": 14,
     "metadata": {},
     "output_type": "execute_result"
    }
   ],
   "source": [
    "data"
   ]
  },
  {
   "cell_type": "code",
   "execution_count": null,
   "metadata": {},
   "outputs": [],
   "source": []
  }
 ],
 "metadata": {
  "kernelspec": {
   "display_name": "Python 3",
   "language": "python",
   "name": "python3"
  },
  "language_info": {
   "codemirror_mode": {
    "name": "ipython",
    "version": 3
   },
   "file_extension": ".py",
   "mimetype": "text/x-python",
   "name": "python",
   "nbconvert_exporter": "python",
   "pygments_lexer": "ipython3",
   "version": "3.8.3"
  }
 },
 "nbformat": 4,
 "nbformat_minor": 4
}
